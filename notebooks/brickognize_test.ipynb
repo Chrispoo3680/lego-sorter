{
 "cells": [
  {
   "cell_type": "code",
   "execution_count": 1,
   "metadata": {},
   "outputs": [],
   "source": [
    "import requests"
   ]
  },
  {
   "cell_type": "code",
   "execution_count": 4,
   "metadata": {},
   "outputs": [],
   "source": [
    "url = 'https://api.brickognize.com/predict/parts/'"
   ]
  },
  {
   "cell_type": "code",
   "execution_count": 9,
   "metadata": {},
   "outputs": [],
   "source": [
    "with open(r'C:\\Users\\chris\\Desktop\\GitHub\\lego-sorter\\data\\classification\\real_image_dataset\\Bricks\\3001\\0rcH_3001_1608586168946.jpg', 'rb') as img_file:\n",
    "    # Prepare the files dictionary for the request\n",
    "    files = {'query_image': ('image.jpg', img_file, 'image/jpeg')}\n",
    "\n",
    "    response = requests.post(url, headers={'accept': 'application/json'}, files=files)"
   ]
  },
  {
   "cell_type": "code",
   "execution_count": 10,
   "metadata": {},
   "outputs": [
    {
     "name": "stdout",
     "output_type": "stream",
     "text": [
      "{'listing_id': '804508c67f85', 'bounding_box': {'left': 75.06429290771484, 'upper': 35.070587158203125, 'right': 673.1594848632812, 'lower': 1007.3749389648438, 'image_width': 695.0, 'image_height': 1024.0, 'score': 0.7148147821426392}, 'items': [{'id': '3001', 'name': 'Brick 2 x 4', 'img_url': 'https://storage.googleapis.com/brickognize-static/thumbnails-v2.9/part/3001/0.webp', 'external_sites': [{'name': 'bricklink', 'url': 'https://www.bricklink.com/v2/catalog/catalogitem.page?P=3001'}], 'category': 'Brick', 'type': 'part', 'score': 0.87821466}, {'id': '3001old', 'name': 'Brick 2 x 4 without Cross Supports', 'img_url': 'https://storage.googleapis.com/brickognize-static/thumbnails-v2.9/part/3001old/0.webp', 'external_sites': [{'name': 'bricklink', 'url': 'https://www.bricklink.com/v2/catalog/catalogitem.page?P=3001old'}], 'category': 'Brick', 'type': 'part', 'score': 0.51932853}]}\n"
     ]
    }
   ],
   "source": [
    "print(response.json())"
   ]
  }
 ],
 "metadata": {
  "kernelspec": {
   "display_name": "ml_venv",
   "language": "python",
   "name": "ml_venv"
  },
  "language_info": {
   "codemirror_mode": {
    "name": "ipython",
    "version": 3
   },
   "file_extension": ".py",
   "mimetype": "text/x-python",
   "name": "python",
   "nbconvert_exporter": "python",
   "pygments_lexer": "ipython3",
   "version": "3.10.11"
  }
 },
 "nbformat": 4,
 "nbformat_minor": 2
}
