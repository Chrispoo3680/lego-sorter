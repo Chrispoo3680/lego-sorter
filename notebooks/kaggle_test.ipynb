{
 "cells": [
  {
   "cell_type": "code",
   "execution_count": 1,
   "id": "4fa4c999",
   "metadata": {},
   "outputs": [],
   "source": [
    "import kaggle\n",
    "\n",
    "kaggle.api.authenticate()"
   ]
  },
  {
   "cell_type": "code",
   "execution_count": 22,
   "id": "311f4691",
   "metadata": {},
   "outputs": [
    {
     "data": {
      "text/plain": [
       "[{\"ref\": \"\", \"datasetRef\": \"\", \"ownerRef\": \"\", \"name\": \"annotations/0.xml\", \"creationDate\": \"2024-03-16T00:38:24.351Z\", \"description\": \"\", \"fileType\": \"\", \"url\": \"\", \"totalBytes\": 54184, \"columns\": []},\n",
       " {\"ref\": \"\", \"datasetRef\": \"\", \"ownerRef\": \"\", \"name\": \"annotations/1.xml\", \"creationDate\": \"2024-03-16T00:38:24.351Z\", \"description\": \"\", \"fileType\": \"\", \"url\": \"\", \"totalBytes\": 54108, \"columns\": []},\n",
       " {\"ref\": \"\", \"datasetRef\": \"\", \"ownerRef\": \"\", \"name\": \"annotations/10.xml\", \"creationDate\": \"2024-03-16T00:38:24.361Z\", \"description\": \"\", \"fileType\": \"\", \"url\": \"\", \"totalBytes\": 54158, \"columns\": []},\n",
       " {\"ref\": \"\", \"datasetRef\": \"\", \"ownerRef\": \"\", \"name\": \"annotations/100.xml\", \"creationDate\": \"2024-03-16T00:38:24.374Z\", \"description\": \"\", \"fileType\": \"\", \"url\": \"\", \"totalBytes\": 54166, \"columns\": []},\n",
       " {\"ref\": \"\", \"datasetRef\": \"\", \"ownerRef\": \"\", \"name\": \"annotations/1000.xml\", \"creationDate\": \"2024-03-16T00:38:24.374Z\", \"description\": \"\", \"fileType\": \"\", \"url\": \"\", \"totalBytes\": 54168, \"columns\": []},\n",
       " {\"ref\": \"\", \"datasetRef\": \"\", \"ownerRef\": \"\", \"name\": \"annotations/1001.xml\", \"creationDate\": \"2024-03-16T00:38:24.367Z\", \"description\": \"\", \"fileType\": \"\", \"url\": \"\", \"totalBytes\": 54177, \"columns\": []},\n",
       " {\"ref\": \"\", \"datasetRef\": \"\", \"ownerRef\": \"\", \"name\": \"annotations/1002.xml\", \"creationDate\": \"2024-03-16T00:38:24.367Z\", \"description\": \"\", \"fileType\": \"\", \"url\": \"\", \"totalBytes\": 54160, \"columns\": []},\n",
       " {\"ref\": \"\", \"datasetRef\": \"\", \"ownerRef\": \"\", \"name\": \"annotations/1003.xml\", \"creationDate\": \"2024-03-16T00:38:24.361Z\", \"description\": \"\", \"fileType\": \"\", \"url\": \"\", \"totalBytes\": 54127, \"columns\": []},\n",
       " {\"ref\": \"\", \"datasetRef\": \"\", \"ownerRef\": \"\", \"name\": \"annotations/1004.xml\", \"creationDate\": \"2024-03-16T00:38:24.364Z\", \"description\": \"\", \"fileType\": \"\", \"url\": \"\", \"totalBytes\": 54167, \"columns\": []},\n",
       " {\"ref\": \"\", \"datasetRef\": \"\", \"ownerRef\": \"\", \"name\": \"annotations/1005.xml\", \"creationDate\": \"2024-03-16T00:38:24.367Z\", \"description\": \"\", \"fileType\": \"\", \"url\": \"\", \"totalBytes\": 54151, \"columns\": []},\n",
       " {\"ref\": \"\", \"datasetRef\": \"\", \"ownerRef\": \"\", \"name\": \"annotations/1006.xml\", \"creationDate\": \"2024-03-16T00:38:24.390Z\", \"description\": \"\", \"fileType\": \"\", \"url\": \"\", \"totalBytes\": 54172, \"columns\": []},\n",
       " {\"ref\": \"\", \"datasetRef\": \"\", \"ownerRef\": \"\", \"name\": \"annotations/1007.xml\", \"creationDate\": \"2024-03-16T00:38:24.386Z\", \"description\": \"\", \"fileType\": \"\", \"url\": \"\", \"totalBytes\": 54205, \"columns\": []},\n",
       " {\"ref\": \"\", \"datasetRef\": \"\", \"ownerRef\": \"\", \"name\": \"annotations/1008.xml\", \"creationDate\": \"2024-03-16T00:38:24.386Z\", \"description\": \"\", \"fileType\": \"\", \"url\": \"\", \"totalBytes\": 54167, \"columns\": []},\n",
       " {\"ref\": \"\", \"datasetRef\": \"\", \"ownerRef\": \"\", \"name\": \"annotations/1009.xml\", \"creationDate\": \"2024-03-16T00:38:24.374Z\", \"description\": \"\", \"fileType\": \"\", \"url\": \"\", \"totalBytes\": 54153, \"columns\": []},\n",
       " {\"ref\": \"\", \"datasetRef\": \"\", \"ownerRef\": \"\", \"name\": \"annotations/101.xml\", \"creationDate\": \"2024-03-16T00:38:24.369Z\", \"description\": \"\", \"fileType\": \"\", \"url\": \"\", \"totalBytes\": 54139, \"columns\": []},\n",
       " {\"ref\": \"\", \"datasetRef\": \"\", \"ownerRef\": \"\", \"name\": \"annotations/1010.xml\", \"creationDate\": \"2024-03-16T00:38:24.376Z\", \"description\": \"\", \"fileType\": \"\", \"url\": \"\", \"totalBytes\": 54197, \"columns\": []},\n",
       " {\"ref\": \"\", \"datasetRef\": \"\", \"ownerRef\": \"\", \"name\": \"annotations/1011.xml\", \"creationDate\": \"2024-03-16T00:38:24.367Z\", \"description\": \"\", \"fileType\": \"\", \"url\": \"\", \"totalBytes\": 54157, \"columns\": []},\n",
       " {\"ref\": \"\", \"datasetRef\": \"\", \"ownerRef\": \"\", \"name\": \"annotations/1012.xml\", \"creationDate\": \"2024-03-16T00:38:24.378Z\", \"description\": \"\", \"fileType\": \"\", \"url\": \"\", \"totalBytes\": 54178, \"columns\": []},\n",
       " {\"ref\": \"\", \"datasetRef\": \"\", \"ownerRef\": \"\", \"name\": \"annotations/1013.xml\", \"creationDate\": \"2024-03-16T00:38:24.377Z\", \"description\": \"\", \"fileType\": \"\", \"url\": \"\", \"totalBytes\": 54087, \"columns\": []},\n",
       " {\"ref\": \"\", \"datasetRef\": \"\", \"ownerRef\": \"\", \"name\": \"annotations/1014.xml\", \"creationDate\": \"2024-03-16T00:38:24.384Z\", \"description\": \"\", \"fileType\": \"\", \"url\": \"\", \"totalBytes\": 54159, \"columns\": []}]"
      ]
     },
     "execution_count": 22,
     "metadata": {},
     "output_type": "execute_result"
    }
   ],
   "source": [
    "files = kaggle.api.dataset_list_files(\"ronanpickell/b100-lego-detection-dataset\").files\n",
    "\n",
    "files"
   ]
  },
  {
   "cell_type": "code",
   "execution_count": 26,
   "id": "1dff5bc9",
   "metadata": {},
   "outputs": [
    {
     "name": "stdout",
     "output_type": "stream",
     "text": [
      "Dataset URL: https://www.kaggle.com/datasets/ronanpickell/b100-lego-detection-dataset\n"
     ]
    },
    {
     "ename": "HTTPError",
     "evalue": "404 Client Error: Not Found for url: https://www.kaggle.com/api/v1/datasets/download/ronanpickell/b100-lego-detection-dataset/annotations.zip?filename=annotations.zip&raw=false",
     "output_type": "error",
     "traceback": [
      "\u001b[31m---------------------------------------------------------------------------\u001b[39m",
      "\u001b[31mHTTPError\u001b[39m                                 Traceback (most recent call last)",
      "\u001b[36mCell\u001b[39m\u001b[36m \u001b[39m\u001b[32mIn[26]\u001b[39m\u001b[32m, line 1\u001b[39m\n\u001b[32m----> \u001b[39m\u001b[32m1\u001b[39m \u001b[43mkaggle\u001b[49m\u001b[43m.\u001b[49m\u001b[43mapi\u001b[49m\u001b[43m.\u001b[49m\u001b[43mdataset_download_file\u001b[49m\u001b[43m(\u001b[49m\u001b[33;43m\"\u001b[39;49m\u001b[33;43mronanpickell/b100-lego-detection-dataset\u001b[39;49m\u001b[33;43m\"\u001b[39;49m\u001b[43m,\u001b[49m\u001b[43m \u001b[49m\u001b[33;43m\"\u001b[39;49m\u001b[33;43mannotations.zip\u001b[39;49m\u001b[33;43m\"\u001b[39;49m\u001b[43m,\u001b[49m\u001b[43m \u001b[49m\u001b[43mpath\u001b[49m\u001b[43m=\u001b[49m\u001b[33;43mr\u001b[39;49m\u001b[33;43m\"\u001b[39;49m\u001b[33;43mC:\u001b[39;49m\u001b[33;43m\\\u001b[39;49m\u001b[33;43mUsers\u001b[39;49m\u001b[33;43m\\\u001b[39;49m\u001b[33;43mchris\u001b[39;49m\u001b[33;43m\\\u001b[39;49m\u001b[33;43mDownloads\u001b[39;49m\u001b[33;43m\"\u001b[39;49m\u001b[43m,\u001b[49m\u001b[43m \u001b[49m\u001b[43mforce\u001b[49m\u001b[43m=\u001b[49m\u001b[38;5;28;43;01mTrue\u001b[39;49;00m\u001b[43m)\u001b[49m\n",
      "\u001b[36mFile \u001b[39m\u001b[32mc:\\Users\\chris\\.venvs\\ml_venv\\Lib\\site-packages\\kaggle\\api\\kaggle_api_extended.py:1610\u001b[39m, in \u001b[36mKaggleApi.dataset_download_file\u001b[39m\u001b[34m(self, dataset, file_name, path, force, quiet, licenses)\u001b[39m\n\u001b[32m   1608\u001b[39m   request.dataset_version_number = dataset_version_number\n\u001b[32m   1609\u001b[39m   request.file_name = file_name\n\u001b[32m-> \u001b[39m\u001b[32m1610\u001b[39m   response = \u001b[43mkaggle\u001b[49m\u001b[43m.\u001b[49m\u001b[43mdatasets\u001b[49m\u001b[43m.\u001b[49m\u001b[43mdataset_api_client\u001b[49m\u001b[43m.\u001b[49m\u001b[43mdownload_dataset\u001b[49m\u001b[43m(\u001b[49m\u001b[43mrequest\u001b[49m\u001b[43m)\u001b[49m\n\u001b[32m   1611\u001b[39m url = response.history[\u001b[32m0\u001b[39m].url\n\u001b[32m   1612\u001b[39m outfile = os.path.join(effective_path, url.split(\u001b[33m'\u001b[39m\u001b[33m?\u001b[39m\u001b[33m'\u001b[39m)[\u001b[32m0\u001b[39m].split(\u001b[33m'\u001b[39m\u001b[33m/\u001b[39m\u001b[33m'\u001b[39m)[-\u001b[32m1\u001b[39m])\n",
      "\u001b[36mFile \u001b[39m\u001b[32mc:\\Users\\chris\\.venvs\\ml_venv\\Lib\\site-packages\\kagglesdk\\datasets\\services\\dataset_api_service.py:80\u001b[39m, in \u001b[36mDatasetApiClient.download_dataset\u001b[39m\u001b[34m(self, request)\u001b[39m\n\u001b[32m     77\u001b[39m \u001b[38;5;28;01mif\u001b[39;00m request \u001b[38;5;129;01mis\u001b[39;00m \u001b[38;5;28;01mNone\u001b[39;00m:\n\u001b[32m     78\u001b[39m   request = ApiDownloadDatasetRequest()\n\u001b[32m---> \u001b[39m\u001b[32m80\u001b[39m \u001b[38;5;28;01mreturn\u001b[39;00m \u001b[38;5;28;43mself\u001b[39;49m\u001b[43m.\u001b[49m\u001b[43m_client\u001b[49m\u001b[43m.\u001b[49m\u001b[43mcall\u001b[49m\u001b[43m(\u001b[49m\u001b[33;43m\"\u001b[39;49m\u001b[33;43mdatasets.DatasetApiService\u001b[39;49m\u001b[33;43m\"\u001b[39;49m\u001b[43m,\u001b[49m\u001b[43m \u001b[49m\u001b[33;43m\"\u001b[39;49m\u001b[33;43mApiDownloadDataset\u001b[39;49m\u001b[33;43m\"\u001b[39;49m\u001b[43m,\u001b[49m\u001b[43m \u001b[49m\u001b[43mrequest\u001b[49m\u001b[43m,\u001b[49m\u001b[43m \u001b[49m\u001b[43mHttpRedirect\u001b[49m\u001b[43m)\u001b[49m\n",
      "\u001b[36mFile \u001b[39m\u001b[32mc:\\Users\\chris\\.venvs\\ml_venv\\Lib\\site-packages\\kagglesdk\\kaggle_http_client.py:104\u001b[39m, in \u001b[36mKaggleHttpClient.call\u001b[39m\u001b[34m(self, service_name, request_name, request, response_type)\u001b[39m\n\u001b[32m    100\u001b[39m http_request = \u001b[38;5;28mself\u001b[39m._prepare_request(service_name, request_name, request)\n\u001b[32m    102\u001b[39m http_response = \u001b[38;5;28mself\u001b[39m._session.send(http_request)\n\u001b[32m--> \u001b[39m\u001b[32m104\u001b[39m response = \u001b[38;5;28;43mself\u001b[39;49m\u001b[43m.\u001b[49m\u001b[43m_prepare_response\u001b[49m\u001b[43m(\u001b[49m\u001b[43mresponse_type\u001b[49m\u001b[43m,\u001b[49m\u001b[43m \u001b[49m\u001b[43mhttp_response\u001b[49m\u001b[43m)\u001b[49m\n\u001b[32m    105\u001b[39m \u001b[38;5;28;01mreturn\u001b[39;00m response\n",
      "\u001b[36mFile \u001b[39m\u001b[32mc:\\Users\\chris\\.venvs\\ml_venv\\Lib\\site-packages\\kagglesdk\\kaggle_http_client.py:163\u001b[39m, in \u001b[36mKaggleHttpClient._prepare_response\u001b[39m\u001b[34m(self, response_type, http_response)\u001b[39m\n\u001b[32m    161\u001b[39m \u001b[38;5;28;01mdef\u001b[39;00m\u001b[38;5;250m \u001b[39m\u001b[34m_prepare_response\u001b[39m(\u001b[38;5;28mself\u001b[39m, response_type, http_response):\n\u001b[32m    162\u001b[39m   \u001b[38;5;28mself\u001b[39m._print_response(http_response)\n\u001b[32m--> \u001b[39m\u001b[32m163\u001b[39m   \u001b[43mhttp_response\u001b[49m\u001b[43m.\u001b[49m\u001b[43mraise_for_status\u001b[49m\u001b[43m(\u001b[49m\u001b[43m)\u001b[49m\n\u001b[32m    164\u001b[39m   \u001b[38;5;28;01mif\u001b[39;00m \u001b[33m'\u001b[39m\u001b[33mapplication/json\u001b[39m\u001b[33m'\u001b[39m \u001b[38;5;129;01min\u001b[39;00m http_response.headers[\u001b[33m'\u001b[39m\u001b[33mContent-Type\u001b[39m\u001b[33m'\u001b[39m]:\n\u001b[32m    165\u001b[39m     resp = http_response.json()\n",
      "\u001b[36mFile \u001b[39m\u001b[32mc:\\Users\\chris\\.venvs\\ml_venv\\Lib\\site-packages\\requests\\models.py:1024\u001b[39m, in \u001b[36mResponse.raise_for_status\u001b[39m\u001b[34m(self)\u001b[39m\n\u001b[32m   1019\u001b[39m     http_error_msg = (\n\u001b[32m   1020\u001b[39m         \u001b[33mf\u001b[39m\u001b[33m\"\u001b[39m\u001b[38;5;132;01m{\u001b[39;00m\u001b[38;5;28mself\u001b[39m.status_code\u001b[38;5;132;01m}\u001b[39;00m\u001b[33m Server Error: \u001b[39m\u001b[38;5;132;01m{\u001b[39;00mreason\u001b[38;5;132;01m}\u001b[39;00m\u001b[33m for url: \u001b[39m\u001b[38;5;132;01m{\u001b[39;00m\u001b[38;5;28mself\u001b[39m.url\u001b[38;5;132;01m}\u001b[39;00m\u001b[33m\"\u001b[39m\n\u001b[32m   1021\u001b[39m     )\n\u001b[32m   1023\u001b[39m \u001b[38;5;28;01mif\u001b[39;00m http_error_msg:\n\u001b[32m-> \u001b[39m\u001b[32m1024\u001b[39m     \u001b[38;5;28;01mraise\u001b[39;00m HTTPError(http_error_msg, response=\u001b[38;5;28mself\u001b[39m)\n",
      "\u001b[31mHTTPError\u001b[39m: 404 Client Error: Not Found for url: https://www.kaggle.com/api/v1/datasets/download/ronanpickell/b100-lego-detection-dataset/annotations.zip?filename=annotations.zip&raw=false"
     ]
    }
   ],
   "source": [
    "kaggle.api.dataset_download_file(\"ronanpickell/b100-lego-detection-dataset\", \"annotations.zip\", path=r\"C:\\Users\\chris\\Downloads\", force=True)"
   ]
  }
 ],
 "metadata": {
  "kernelspec": {
   "display_name": "ml_venv",
   "language": "python",
   "name": "python3"
  },
  "language_info": {
   "codemirror_mode": {
    "name": "ipython",
    "version": 3
   },
   "file_extension": ".py",
   "mimetype": "text/x-python",
   "name": "python",
   "nbconvert_exporter": "python",
   "pygments_lexer": "ipython3",
   "version": "3.13.3"
  }
 },
 "nbformat": 4,
 "nbformat_minor": 5
}
