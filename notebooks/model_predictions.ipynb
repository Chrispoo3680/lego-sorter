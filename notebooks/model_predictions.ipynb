{
 "cells": [
  {
   "cell_type": "code",
   "execution_count": 1,
   "metadata": {},
   "outputs": [],
   "source": [
    "import torch\n",
    "\n",
    "import sys\n",
    "from pathlib import Path\n",
    "import os\n",
    "\n",
    "sys.path.append(\"../\")\n",
    "\n",
    "import random\n",
    "\n",
    "from src.evaluate.predictions import pred_and_plot_image\n",
    "from src.model.model import create_efficientnet_b0"
   ]
  },
  {
   "cell_type": "code",
   "execution_count": 2,
   "metadata": {},
   "outputs": [
    {
     "data": {
      "text/plain": [
       "device(type='cuda')"
      ]
     },
     "execution_count": 2,
     "metadata": {},
     "output_type": "execute_result"
    }
   ],
   "source": [
    "device = torch.device(\"cuda\" if torch.cuda.is_available() else \"cpu\")\n",
    "device"
   ]
  },
  {
   "cell_type": "code",
   "execution_count": 3,
   "metadata": {},
   "outputs": [
    {
     "data": {
      "text/plain": [
       "(WindowsPath('../data/b200c-lego-classification-dataset'),\n",
       " [WindowsPath('../data/personal_images/Image (1).jpg'),\n",
       "  WindowsPath('../data/personal_images/Image (2).jpg'),\n",
       "  WindowsPath('../data/personal_images/Image.jpg')],\n",
       " ['10247',\n",
       "  '11090',\n",
       "  '11211',\n",
       "  '11212',\n",
       "  '11214',\n",
       "  '11458',\n",
       "  '11476',\n",
       "  '11477',\n",
       "  '14704',\n",
       "  '14719',\n",
       "  '14769',\n",
       "  '15068',\n",
       "  '15070',\n",
       "  '15100',\n",
       "  '15207',\n",
       "  '15379',\n",
       "  '15392',\n",
       "  '15535',\n",
       "  '15573',\n",
       "  '15712',\n",
       "  '18651',\n",
       "  '18654',\n",
       "  '18674',\n",
       "  '18677',\n",
       "  '20482',\n",
       "  '22388',\n",
       "  '22885',\n",
       "  '2357',\n",
       "  '2412b',\n",
       "  '2420',\n",
       "  '24201',\n",
       "  '24246',\n",
       "  '2429',\n",
       "  '2430',\n",
       "  '2431',\n",
       "  '2432',\n",
       "  '2436',\n",
       "  '2445',\n",
       "  '2450',\n",
       "  '2454b',\n",
       "  '2456',\n",
       "  '24866',\n",
       "  '25269',\n",
       "  '2540',\n",
       "  '26047',\n",
       "  '2654',\n",
       "  '26601',\n",
       "  '26603',\n",
       "  '26604',\n",
       "  '2780',\n",
       "  '27925',\n",
       "  '28192',\n",
       "  '2877',\n",
       "  '3001',\n",
       "  '3002',\n",
       "  '3003',\n",
       "  '3004',\n",
       "  '3005',\n",
       "  '3008',\n",
       "  '3009',\n",
       "  '3010',\n",
       "  '30136',\n",
       "  '3020',\n",
       "  '3021',\n",
       "  '3022',\n",
       "  '3023',\n",
       "  '3024',\n",
       "  '3031',\n",
       "  '3032',\n",
       "  '3034',\n",
       "  '3035',\n",
       "  '3037',\n",
       "  '30374',\n",
       "  '3039',\n",
       "  '3040b',\n",
       "  '30414',\n",
       "  '3062b',\n",
       "  '3065',\n",
       "  '3068b',\n",
       "  '3069b',\n",
       "  '3070b',\n",
       "  '32000',\n",
       "  '32013',\n",
       "  '32028',\n",
       "  '32054',\n",
       "  '32062',\n",
       "  '32064a',\n",
       "  '32073',\n",
       "  '32123b',\n",
       "  '32140',\n",
       "  '32184',\n",
       "  '32278',\n",
       "  '32316',\n",
       "  '3245c',\n",
       "  '32523',\n",
       "  '32524',\n",
       "  '32525',\n",
       "  '32526',\n",
       "  '32607',\n",
       "  '32952',\n",
       "  '33291',\n",
       "  '33909',\n",
       "  '34103',\n",
       "  '3460',\n",
       "  '35480',\n",
       "  '3622',\n",
       "  '3623',\n",
       "  '3660',\n",
       "  '3665',\n",
       "  '3666',\n",
       "  '3673',\n",
       "  '3700',\n",
       "  '3701',\n",
       "  '3705',\n",
       "  '3710',\n",
       "  '3713',\n",
       "  '3749',\n",
       "  '3795',\n",
       "  '3832',\n",
       "  '3937',\n",
       "  '3941',\n",
       "  '3958',\n",
       "  '4032a',\n",
       "  '40490',\n",
       "  '4070',\n",
       "  '4081b',\n",
       "  '4085c',\n",
       "  '4162',\n",
       "  '41677',\n",
       "  '41740',\n",
       "  '41769',\n",
       "  '41770',\n",
       "  '42003',\n",
       "  '4274',\n",
       "  '4286',\n",
       "  '43093',\n",
       "  '43722',\n",
       "  '43723',\n",
       "  '44728',\n",
       "  '4477',\n",
       "  '4519',\n",
       "  '4589',\n",
       "  '4599b',\n",
       "  '4740',\n",
       "  '47457',\n",
       "  '48336',\n",
       "  '4865',\n",
       "  '48729b',\n",
       "  '49668',\n",
       "  '50950',\n",
       "  '51739',\n",
       "  '53451',\n",
       "  '54200',\n",
       "  '59443',\n",
       "  '60470b',\n",
       "  '60474',\n",
       "  '60478',\n",
       "  '60479',\n",
       "  '60481',\n",
       "  '60483',\n",
       "  '60592',\n",
       "  '60601',\n",
       "  '6091',\n",
       "  '61252',\n",
       "  '6134',\n",
       "  '61409',\n",
       "  '6141',\n",
       "  '61678',\n",
       "  '62462',\n",
       "  '63864',\n",
       "  '63868',\n",
       "  '63965',\n",
       "  '64644',\n",
       "  '6536',\n",
       "  '6541',\n",
       "  '6558',\n",
       "  '6632',\n",
       "  '6636',\n",
       "  '85080',\n",
       "  '85861',\n",
       "  '85984',\n",
       "  '87079',\n",
       "  '87083',\n",
       "  '87087',\n",
       "  '87552',\n",
       "  '87580',\n",
       "  '87620',\n",
       "  '87994',\n",
       "  '88072',\n",
       "  '88323',\n",
       "  '92280',\n",
       "  '92946',\n",
       "  '93273',\n",
       "  '98138',\n",
       "  '98283',\n",
       "  '99206',\n",
       "  '99207',\n",
       "  '99563',\n",
       "  '99780',\n",
       "  '99781'])"
      ]
     },
     "execution_count": 3,
     "metadata": {},
     "output_type": "execute_result"
    }
   ],
   "source": [
    "# Set path to data\n",
    "data_path = Path(\"../data\")\n",
    "image_path = data_path / \"b200c-lego-classification-dataset\"\n",
    "cust_img_path = data_path / \"personal_images\"\n",
    "\n",
    "image_path_list = list(image_path.glob(\"*/*.jpg\"))\n",
    "cust_img_path_list = list(cust_img_path.glob(\"*.jpg\"))\n",
    "\n",
    "class_names = os.listdir(image_path)\n",
    "\n",
    "image_path, cust_img_path_list, class_names"
   ]
  },
  {
   "cell_type": "code",
   "execution_count": 4,
   "metadata": {},
   "outputs": [
    {
     "name": "stderr",
     "output_type": "stream",
     "text": [
      "C:\\Users\\chris\\AppData\\Local\\Temp\\ipykernel_26348\\341878036.py:2: FutureWarning: You are using `torch.load` with `weights_only=False` (the current default value), which uses the default pickle module implicitly. It is possible to construct malicious pickle data which will execute arbitrary code during unpickling (See https://github.com/pytorch/pytorch/blob/main/SECURITY.md#untrusted-models for more details). In a future release, the default value for `weights_only` will be flipped to `True`. This limits the functions that could be executed during unpickling. Arbitrary objects will no longer be allowed to be loaded via this mode unless they are explicitly allowlisted by the user via `torch.serialization.add_safe_globals`. We recommend you start setting `weights_only=True` for any use case where you don't have full control of the loaded file. Please open an issue on GitHub for any issues related to this experimental feature.\n",
      "  sorterV6.load_state_dict(torch.load(f=\"../models/efficientnet_b0_lego_sorterV6.pt\"))\n",
      "C:\\Users\\chris\\AppData\\Local\\Temp\\ipykernel_26348\\341878036.py:5: FutureWarning: You are using `torch.load` with `weights_only=False` (the current default value), which uses the default pickle module implicitly. It is possible to construct malicious pickle data which will execute arbitrary code during unpickling (See https://github.com/pytorch/pytorch/blob/main/SECURITY.md#untrusted-models for more details). In a future release, the default value for `weights_only` will be flipped to `True`. This limits the functions that could be executed during unpickling. Arbitrary objects will no longer be allowed to be loaded via this mode unless they are explicitly allowlisted by the user via `torch.serialization.add_safe_globals`. We recommend you start setting `weights_only=True` for any use case where you don't have full control of the loaded file. Please open an issue on GitHub for any issues related to this experimental feature.\n",
      "  sorterV4.load_state_dict(torch.load(f=\"../models/efficientnet_b0_lego_sorterV4.pt\"))\n"
     ]
    },
    {
     "data": {
      "text/plain": [
       "<All keys matched successfully>"
      ]
     },
     "execution_count": 4,
     "metadata": {},
     "output_type": "execute_result"
    }
   ],
   "source": [
    "sorterV6, weights = create_efficientnet_b0(class_names=class_names, device=device)\n",
    "sorterV6.load_state_dict(torch.load(f=\"../models/efficientnet_b0_lego_sorterV6.pt\"))\n",
    "\n",
    "sorterV4, _ = create_efficientnet_b0(class_names=class_names, device=device)\n",
    "sorterV4.load_state_dict(torch.load(f=\"../models/efficientnet_b0_lego_sorterV4.pt\"))"
   ]
  },
  {
   "cell_type": "code",
   "execution_count": 5,
   "metadata": {},
   "outputs": [
    {
     "data": {
      "text/plain": [
       "ImageClassification(\n",
       "    crop_size=[224]\n",
       "    resize_size=[256]\n",
       "    mean=[0.485, 0.456, 0.406]\n",
       "    std=[0.229, 0.224, 0.225]\n",
       "    interpolation=InterpolationMode.BICUBIC\n",
       ")"
      ]
     },
     "execution_count": 5,
     "metadata": {},
     "output_type": "execute_result"
    }
   ],
   "source": [
    "transforms = weights.transforms()\n",
    "transforms"
   ]
  },
  {
   "cell_type": "code",
   "execution_count": null,
   "metadata": {},
   "outputs": [],
   "source": []
  },
  {
   "cell_type": "code",
   "execution_count": 1,
   "metadata": {},
   "outputs": [
    {
     "ename": "NameError",
     "evalue": "name 'random' is not defined",
     "output_type": "error",
     "traceback": [
      "\u001b[1;31m---------------------------------------------------------------------------\u001b[0m",
      "\u001b[1;31mNameError\u001b[0m                                 Traceback (most recent call last)",
      "Cell \u001b[1;32mIn[1], line 1\u001b[0m\n\u001b[1;32m----> 1\u001b[0m random_image_path \u001b[38;5;241m=\u001b[39m \u001b[43mrandom\u001b[49m\u001b[38;5;241m.\u001b[39mchoice(cust_img_path_list)\n\u001b[0;32m      2\u001b[0m pred_and_plot_image(model\u001b[38;5;241m=\u001b[39msorterV4,\n\u001b[0;32m      3\u001b[0m                     image_path\u001b[38;5;241m=\u001b[39mrandom_image_path,\n\u001b[0;32m      4\u001b[0m                     class_names\u001b[38;5;241m=\u001b[39mclass_names,\n\u001b[0;32m      5\u001b[0m                     transform\u001b[38;5;241m=\u001b[39mtransforms)\n\u001b[0;32m      7\u001b[0m random_image_path\n",
      "\u001b[1;31mNameError\u001b[0m: name 'random' is not defined"
     ]
    }
   ],
   "source": [
    "random_image_path = random.choice(cust_img_path_list)\n",
    "pred_and_plot_image(model=sorterV4,\n",
    "                    image_path=random_image_path,\n",
    "                    class_names=class_names,\n",
    "                    transform=transforms)\n",
    "\n",
    "random_image_path"
   ]
  },
  {
   "cell_type": "code",
   "execution_count": null,
   "metadata": {},
   "outputs": [],
   "source": []
  }
 ],
 "metadata": {
  "kernelspec": {
   "display_name": "ml_venv",
   "language": "python",
   "name": "ml_venv"
  },
  "language_info": {
   "codemirror_mode": {
    "name": "ipython",
    "version": 3
   },
   "file_extension": ".py",
   "mimetype": "text/x-python",
   "name": "python",
   "nbconvert_exporter": "python",
   "pygments_lexer": "ipython3",
   "version": "3.10.11"
  }
 },
 "nbformat": 4,
 "nbformat_minor": 2
}
